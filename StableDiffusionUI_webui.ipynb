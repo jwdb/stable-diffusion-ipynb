{
  "nbformat": 4,
  "nbformat_minor": 0,
  "metadata": {
    "colab": {
      "private_outputs": true,
      "provenance": [],
      "collapsed_sections": []
    },
    "kernelspec": {
      "name": "python3",
      "display_name": "Python 3"
    },
    "language_info": {
      "name": "python"
    },
    "accelerator": "GPU",
    "gpuClass": "standard"
  },
  "cells": [
    {
      "cell_type": "markdown",
      "source": [
        "Clone webui repository"
      ],
      "metadata": {
        "id": "OHCtG9MT0jLq"
      }
    },
    {
      "cell_type": "code",
      "source": [
        "!git clone https://github.com/AUTOMATIC1111/stable-diffusion-webui /content/stable-diffusion-webui"
      ],
      "metadata": {
        "id": "sBbcB4vwj_jm"
      },
      "execution_count": null,
      "outputs": []
    },
    {
      "cell_type": "markdown",
      "source": [
        "Install requirements, download repositories of stable diffusion"
      ],
      "metadata": {
        "id": "C68TUpkq0nj_"
      }
    },
    {
      "cell_type": "code",
      "source": [
        "!pip install -r /content/stable-diffusion-webui/requirements.txt\n",
        "!mkdir /content/stable-diffusion-webui/repositories\n",
        "!git clone https://github.com/CompVis/stable-diffusion.git /content/stable-diffusion-webui/repositories/stable-diffusion\n",
        "!git clone https://github.com/CompVis/taming-transformers.git /content/stable-diffusion-webui/repositories/taming-transformers\n",
        "!git clone https://github.com/sczhou/CodeFormer.git /content/stable-diffusion-webui/repositories/CodeFormer\n",
        "!git clone https://github.com/salesforce/BLIP.git /content/stable-diffusion-webui/repositories/BLIP\n",
        "!pip install -r /content/stable-diffusion-webui/repositories/CodeFormer/requirements.txt "
      ],
      "metadata": {
        "id": "SaAJk33ppFw1"
      },
      "execution_count": null,
      "outputs": []
    },
    {
      "cell_type": "markdown",
      "source": [
        "Download the model from huggingface. See link at the start for different ways."
      ],
      "metadata": {
        "id": "F0EINk5M0s-w"
      }
    },
    {
      "cell_type": "code",
      "source": [
        "#@title Normal 1.4 model\n",
        "# get a token from https://huggingface.co/settings/tokens\n",
        "user_token = \"\" #@param {type:\"string\"}\n",
        "user_header = f\"\\\"Authorization: Bearer {user_token}\\\"\"\n",
        "!wget -nc --header={user_header} https://huggingface.co/CompVis/stable-diffusion-v-1-4-original/resolve/main/sd-v1-4.ckpt -O /content/stable-diffusion-webui/model.ckpt"
      ],
      "metadata": {
        "id": "CT_J9L7oqLxG"
      },
      "execution_count": null,
      "outputs": []
    },
    {
      "cell_type": "markdown",
      "source": [
        "Downlad GFPGAN model."
      ],
      "metadata": {
        "id": "acYdIlnGKvb9"
      }
    },
    {
      "cell_type": "code",
      "source": [
        "!wget -nc https://github.com/TencentARC/GFPGAN/releases/download/v1.3.0/GFPGANv1.3.pth -O /content/stable-diffusion-webui/GFPGANv1.3.pth"
      ],
      "metadata": {
        "id": "mstv-L61KsF6"
      },
      "execution_count": null,
      "outputs": []
    },
    {
      "cell_type": "markdown",
      "source": [
        "Change into Web UI directory and download updates"
      ],
      "metadata": {
        "id": "S8nvm5f6AfaL"
      }
    },
    {
      "cell_type": "code",
      "source": [
        "%cd /content/stable-diffusion-webui/\n",
        "!git pull"
      ],
      "metadata": {
        "id": "I1j4j2NfAQye"
      },
      "execution_count": null,
      "outputs": []
    },
    {
      "cell_type": "markdown",
      "source": [
        "Launch web ui. You will get a link to nnn.gradio.app, follow it."
      ],
      "metadata": {
        "id": "xt8lbdmC04ox"
      }
    },
    {
      "cell_type": "code",
      "source": [
        "import sys\n",
        "sys.argv = ['webui.py', \"--share\", \"--gradio-debug\"]\n",
        "# deps installation\n",
        "try:\n",
        "  import webui\n",
        "except ImportError:\n",
        "  print('Stopping RUNTIME! Please run again.')\n",
        "  import os\n",
        "  os.kill(os.getpid(), 9)\n",
        "webui.webui()"
      ],
      "metadata": {
        "id": "R-xAdMA5wxXd"
      },
      "execution_count": null,
      "outputs": []
    }
  ]
}